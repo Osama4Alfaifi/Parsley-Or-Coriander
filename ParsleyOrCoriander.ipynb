{
 "cells": [
  {
   "cell_type": "markdown",
   "id": "3453e8c6",
   "metadata": {},
   "source": [
    "**1- Import needed libraries**<br> \n",
    "**2- Loading Data**<br>\n",
    "**3- Preparing Data**<br>\n",
    "**4- Model Definition**<br>\n",
    "**5- Model Training**<br>\n",
    "**6- Model Evaluation**<br>\n",
    "**7- Reports**<br>\n",
    "**8- Saving Our Model** <br>\n",
    "**9- Saving Our Model As TFLite** <br>\n",
    "**10- Transfer Learning Models** <br>\n",
    "**11- SVM Transfer Learning** <br>"
   ]
  },
  {
   "cell_type": "markdown",
   "id": "a65a7bef",
   "metadata": {},
   "source": [
    "# 1- Import Needed Libraries"
   ]
  },
  {
   "cell_type": "code",
   "execution_count": 1,
   "id": "c81aa919",
   "metadata": {},
   "outputs": [],
   "source": [
    "import pandas as pd \n",
    "import sklearn\n",
    "import joblib\n",
    "import matplotlib.pyplot as plt\n",
    "import tensorflow as tf\n",
    "import keras \n",
    "import numpy as np\n",
    "from tensorflow.keras.preprocessing.image import ImageDataGenerator\n",
    "from tensorflow.keras.applications import MobileNetV2\n",
    "from tensorflow.keras.applications import VGG16\n",
    "from tensorflow.keras.applications import VGG19\n",
    "from tensorflow.keras.applications import EfficientNetB7\n",
    "from sklearn.metrics import accuracy_score\n",
    "from numpy import array\n",
    "from sklearn.model_selection import train_test_split\n",
    "from sklearn.metrics import classification_report, confusion_matrix\n",
    "from keras import models as Models\n",
    "from keras import layers as Layers\n",
    "from keras.preprocessing import image\n",
    "from keras.models import Sequential,Model\n",
    "from keras.layers import Input,InputLayer, Dense, Activation, ZeroPadding2D, BatchNormalization\n",
    "from keras.layers import Flatten, Conv2D, AveragePooling2D, MaxPooling2D, Dropout\n",
    "from keras.callbacks import ModelCheckpoint,EarlyStopping\n",
    "from keras import utils as Utils\n",
    "from tensorflow.keras.utils import to_categorical\n",
    "from keras.utils.vis_utils import model_to_dot\n",
    "from tensorflow.keras.utils import plot_model\n",
    "from tensorflow.keras.preprocessing.image import img_to_array\n",
    "from tensorflow.keras.models import load_model \n",
    "import cv2\n",
    "import os\n",
    "from PIL import Image\n",
    "from tensorflow.keras.optimizers import Adam\n",
    "from tensorflow.keras.preprocessing.image import load_img\n",
    "from tensorflow.keras.utils import to_categorical\n",
    "from tensorflow.keras.applications.mobilenet_v2 import preprocess_input\n",
    "from sklearn.preprocessing import LabelEncoder\n",
    "from sklearn.model_selection import train_test_split\n",
    "from sklearn.metrics import classification_report\n",
    "from imutils import paths\n",
    "from sklearn import svm"
   ]
  },
  {
   "cell_type": "markdown",
   "id": "3cfc8f53",
   "metadata": {},
   "source": [
    "# 2- Loading Data"
   ]
  },
  {
   "cell_type": "code",
   "execution_count": 2,
   "id": "e4b3982b",
   "metadata": {},
   "outputs": [],
   "source": [
    "#2 Classes\n",
    "DIRECTORY = r\"C:/Users/DELL/Desktop/MyProject/Dataset/\"\n",
    "\n",
    "CATEGORIES = [\"Parsley\",\"Coriander\"]"
   ]
  },
  {
   "cell_type": "markdown",
   "id": "64dff87c",
   "metadata": {},
   "source": [
    "# 3- Preparing Data"
   ]
  },
  {
   "cell_type": "code",
   "execution_count": 3,
   "id": "9997dd22",
   "metadata": {},
   "outputs": [
    {
     "name": "stderr",
     "output_type": "stream",
     "text": [
      "C:\\Users\\DELL\\AppData\\Roaming\\Python\\Python39\\site-packages\\PIL\\TiffImagePlugin.py:822: UserWarning: Corrupt EXIF data.  Expecting to read 4 bytes but only got 2. \n",
      "  warnings.warn(str(msg))\n"
     ]
    }
   ],
   "source": [
    "#Convert images and data into arrays\n",
    "data = []\n",
    "labels = []\n",
    "\n",
    "for category in CATEGORIES:\n",
    "    path = os.path.join(DIRECTORY, category)\n",
    "    for img in os.listdir(path):\n",
    "        img_path = os.path.join(path, img)\n",
    "        image = load_img(img_path,target_size=(200,200))\n",
    "        image = img_to_array(image)\n",
    "        image = preprocess_input(image)\n",
    "        data.append(image)\n",
    "        labels.append(category)"
   ]
  },
  {
   "cell_type": "code",
   "execution_count": 4,
   "id": "adb0ec72",
   "metadata": {},
   "outputs": [],
   "source": [
    "lb = LabelEncoder()\n",
    "labels = lb.fit_transform(labels)"
   ]
  },
  {
   "cell_type": "code",
   "execution_count": 5,
   "id": "f7e81bd4",
   "metadata": {},
   "outputs": [
    {
     "name": "stdout",
     "output_type": "stream",
     "text": [
      "[[0. 1.]\n",
      " [0. 1.]\n",
      " [0. 1.]\n",
      " [0. 1.]\n",
      " [0. 1.]\n",
      " [0. 1.]\n",
      " [0. 1.]\n",
      " [0. 1.]\n",
      " [0. 1.]\n",
      " [0. 1.]\n",
      " [0. 1.]\n",
      " [0. 1.]\n",
      " [0. 1.]\n",
      " [0. 1.]\n",
      " [0. 1.]\n",
      " [0. 1.]\n",
      " [0. 1.]\n",
      " [0. 1.]\n",
      " [0. 1.]\n",
      " [0. 1.]\n",
      " [0. 1.]\n",
      " [0. 1.]\n",
      " [0. 1.]\n",
      " [0. 1.]\n",
      " [0. 1.]\n",
      " [0. 1.]\n",
      " [0. 1.]\n",
      " [0. 1.]\n",
      " [0. 1.]\n",
      " [0. 1.]\n",
      " [0. 1.]\n",
      " [0. 1.]\n",
      " [0. 1.]\n",
      " [0. 1.]\n",
      " [0. 1.]\n",
      " [0. 1.]\n",
      " [0. 1.]\n",
      " [0. 1.]\n",
      " [0. 1.]\n",
      " [0. 1.]\n",
      " [0. 1.]\n",
      " [0. 1.]\n",
      " [0. 1.]\n",
      " [0. 1.]\n",
      " [0. 1.]\n",
      " [0. 1.]\n",
      " [0. 1.]\n",
      " [0. 1.]\n",
      " [0. 1.]\n",
      " [0. 1.]\n",
      " [0. 1.]\n",
      " [0. 1.]\n",
      " [0. 1.]\n",
      " [0. 1.]\n",
      " [0. 1.]\n",
      " [0. 1.]\n",
      " [0. 1.]\n",
      " [0. 1.]\n",
      " [0. 1.]\n",
      " [0. 1.]\n",
      " [0. 1.]\n",
      " [0. 1.]\n",
      " [0. 1.]\n",
      " [0. 1.]\n",
      " [0. 1.]\n",
      " [0. 1.]\n",
      " [0. 1.]\n",
      " [0. 1.]\n",
      " [0. 1.]\n",
      " [0. 1.]\n",
      " [0. 1.]\n",
      " [0. 1.]\n",
      " [0. 1.]\n",
      " [0. 1.]\n",
      " [0. 1.]\n",
      " [0. 1.]\n",
      " [0. 1.]\n",
      " [0. 1.]\n",
      " [0. 1.]\n",
      " [0. 1.]\n",
      " [0. 1.]\n",
      " [0. 1.]\n",
      " [0. 1.]\n",
      " [0. 1.]\n",
      " [0. 1.]\n",
      " [0. 1.]\n",
      " [0. 1.]\n",
      " [0. 1.]\n",
      " [0. 1.]\n",
      " [0. 1.]\n",
      " [0. 1.]\n",
      " [0. 1.]\n",
      " [0. 1.]\n",
      " [0. 1.]\n",
      " [0. 1.]\n",
      " [0. 1.]\n",
      " [0. 1.]\n",
      " [0. 1.]\n",
      " [0. 1.]\n",
      " [0. 1.]\n",
      " [1. 0.]\n",
      " [1. 0.]\n",
      " [1. 0.]\n",
      " [1. 0.]\n",
      " [1. 0.]\n",
      " [1. 0.]\n",
      " [1. 0.]\n",
      " [1. 0.]\n",
      " [1. 0.]\n",
      " [1. 0.]\n",
      " [1. 0.]\n",
      " [1. 0.]\n",
      " [1. 0.]\n",
      " [1. 0.]\n",
      " [1. 0.]\n",
      " [1. 0.]\n",
      " [1. 0.]\n",
      " [1. 0.]\n",
      " [1. 0.]\n",
      " [1. 0.]\n",
      " [1. 0.]\n",
      " [1. 0.]\n",
      " [1. 0.]\n",
      " [1. 0.]\n",
      " [1. 0.]\n",
      " [1. 0.]\n",
      " [1. 0.]\n",
      " [1. 0.]\n",
      " [1. 0.]\n",
      " [1. 0.]\n",
      " [1. 0.]\n",
      " [1. 0.]\n",
      " [1. 0.]\n",
      " [1. 0.]\n",
      " [1. 0.]\n",
      " [1. 0.]\n",
      " [1. 0.]\n",
      " [1. 0.]\n",
      " [1. 0.]\n",
      " [1. 0.]\n",
      " [1. 0.]\n",
      " [1. 0.]\n",
      " [1. 0.]\n",
      " [1. 0.]\n",
      " [1. 0.]\n",
      " [1. 0.]\n",
      " [1. 0.]\n",
      " [1. 0.]\n",
      " [1. 0.]\n",
      " [1. 0.]\n",
      " [1. 0.]\n",
      " [1. 0.]\n",
      " [1. 0.]\n",
      " [1. 0.]\n",
      " [1. 0.]\n",
      " [1. 0.]\n",
      " [1. 0.]\n",
      " [1. 0.]\n",
      " [1. 0.]\n",
      " [1. 0.]\n",
      " [1. 0.]\n",
      " [1. 0.]\n",
      " [1. 0.]\n",
      " [1. 0.]\n",
      " [1. 0.]\n",
      " [1. 0.]\n",
      " [1. 0.]\n",
      " [1. 0.]\n",
      " [1. 0.]\n",
      " [1. 0.]\n",
      " [1. 0.]\n",
      " [1. 0.]\n",
      " [1. 0.]\n",
      " [1. 0.]\n",
      " [1. 0.]\n",
      " [1. 0.]\n",
      " [1. 0.]\n",
      " [1. 0.]\n",
      " [1. 0.]\n",
      " [1. 0.]\n",
      " [1. 0.]\n",
      " [1. 0.]\n",
      " [1. 0.]\n",
      " [1. 0.]\n",
      " [1. 0.]\n",
      " [1. 0.]\n",
      " [1. 0.]\n",
      " [1. 0.]\n",
      " [1. 0.]\n",
      " [1. 0.]\n",
      " [1. 0.]\n",
      " [1. 0.]\n",
      " [1. 0.]\n",
      " [1. 0.]\n",
      " [1. 0.]\n",
      " [1. 0.]\n",
      " [1. 0.]\n",
      " [1. 0.]\n",
      " [1. 0.]\n",
      " [1. 0.]]\n"
     ]
    }
   ],
   "source": [
    "labels_categorical = to_categorical(labels)\n",
    "print(labels_categorical)"
   ]
  },
  {
   "cell_type": "code",
   "execution_count": 6,
   "id": "509b600d",
   "metadata": {},
   "outputs": [],
   "source": [
    "data = np.array(data, dtype=\"float32\")\n",
    "labels = np.array(labels)"
   ]
  },
  {
   "cell_type": "code",
   "execution_count": 19,
   "id": "0f68ef29",
   "metadata": {},
   "outputs": [],
   "source": [
    "#categorical labels for CNN\n",
    "(trainX, testX, trainY, testY) = train_test_split(data, labels_categorical, test_size=0.10, stratify=labels, random_state=42)"
   ]
  },
  {
   "cell_type": "code",
   "execution_count": 14,
   "id": "517915c9",
   "metadata": {},
   "outputs": [],
   "source": [
    "#noncategorical labels for SVM\n",
    "(trainX, testX, trainY, testY) = train_test_split(data, labels, test_size=0.20, stratify=labels, random_state=42)"
   ]
  },
  {
   "cell_type": "markdown",
   "id": "7c44bf5c",
   "metadata": {},
   "source": [
    "# 4- Model Definition"
   ]
  },
  {
   "cell_type": "code",
   "execution_count": 20,
   "id": "0db2bf0e",
   "metadata": {},
   "outputs": [
    {
     "name": "stdout",
     "output_type": "stream",
     "text": [
      "Model: \"sequential\"\n",
      "_________________________________________________________________\n",
      " Layer (type)                Output Shape              Param #   \n",
      "=================================================================\n",
      " conv2d (Conv2D)             (None, 197, 197, 256)     12544     \n",
      "                                                                 \n",
      " max_pooling2d_1 (MaxPooling  (None, 65, 65, 256)      0         \n",
      " 2D)                                                             \n",
      "                                                                 \n",
      " flatten (Flatten)           (None, 1081600)           0         \n",
      "                                                                 \n",
      " dropout (Dropout)           (None, 1081600)           0         \n",
      "                                                                 \n",
      " dense_1 (Dense)             (None, 2)                 2163202   \n",
      "                                                                 \n",
      "=================================================================\n",
      "Total params: 2,175,746\n",
      "Trainable params: 2,175,746\n",
      "Non-trainable params: 0\n",
      "_________________________________________________________________\n"
     ]
    }
   ],
   "source": [
    "#Creating our model\n",
    "model = Models.Sequential()\n",
    "model.add(Layers.Conv2D(256, kernel_size=(4, 4),activation='relu',input_shape=(200,200,3)))\n",
    "model.add(Layers.MaxPooling2D(pool_size=(3,3)))\n",
    "model.add(Layers.Flatten())\n",
    "model.add(Layers.Dropout(0.2))\n",
    "model.add(Layers.Dense(2, activation='softmax'))\n",
    "model.compile(loss='binary_crossentropy',optimizer='Adam',metrics=['accuracy'])\n",
    "model.summary()"
   ]
  },
  {
   "cell_type": "code",
   "execution_count": 11,
   "id": "aeb0f6d4",
   "metadata": {},
   "outputs": [],
   "source": [
    "callbacks_list =[EarlyStopping(monitor='val_loss', patience=5,restore_best_weights=True), ModelCheckpoint(\n",
    "    filepath='modelChPos.h5', monitor='val_loss', save_best_only= True),]"
   ]
  },
  {
   "cell_type": "markdown",
   "id": "b044af1c",
   "metadata": {},
   "source": [
    "# 5- Model Training"
   ]
  },
  {
   "cell_type": "code",
   "execution_count": 21,
   "id": "e1479d42",
   "metadata": {},
   "outputs": [
    {
     "name": "stdout",
     "output_type": "stream",
     "text": [
      "Epoch 1/50\n",
      "12/12 [==============================] - 16s 1s/step - loss: 2.8103 - accuracy: 0.5722 - val_loss: 3.9731 - val_accuracy: 0.4500\n",
      "Epoch 2/50\n",
      "12/12 [==============================] - 13s 1s/step - loss: 1.2117 - accuracy: 0.7556 - val_loss: 1.3562 - val_accuracy: 0.6000\n",
      "Epoch 3/50\n",
      "12/12 [==============================] - 13s 1s/step - loss: 0.5368 - accuracy: 0.8056 - val_loss: 1.2097 - val_accuracy: 0.4500\n",
      "Epoch 4/50\n",
      "12/12 [==============================] - 13s 1s/step - loss: 0.1747 - accuracy: 0.9833 - val_loss: 1.1100 - val_accuracy: 0.5500\n",
      "Epoch 5/50\n",
      "12/12 [==============================] - 13s 1s/step - loss: 0.0869 - accuracy: 0.9944 - val_loss: 1.1753 - val_accuracy: 0.5500\n",
      "Epoch 6/50\n",
      "12/12 [==============================] - 13s 1s/step - loss: 0.0521 - accuracy: 0.9944 - val_loss: 1.1904 - val_accuracy: 0.4500\n",
      "Epoch 7/50\n",
      "12/12 [==============================] - 16s 1s/step - loss: 0.0309 - accuracy: 0.9944 - val_loss: 1.1242 - val_accuracy: 0.6500\n",
      "Epoch 8/50\n",
      "12/12 [==============================] - 16s 1s/step - loss: 0.0178 - accuracy: 1.0000 - val_loss: 1.1346 - val_accuracy: 0.4500\n",
      "Epoch 9/50\n",
      "12/12 [==============================] - 16s 1s/step - loss: 0.0115 - accuracy: 1.0000 - val_loss: 1.1524 - val_accuracy: 0.5000\n",
      "Epoch 10/50\n",
      "12/12 [==============================] - 16s 1s/step - loss: 0.0086 - accuracy: 1.0000 - val_loss: 1.1818 - val_accuracy: 0.4500\n",
      "Epoch 11/50\n",
      "12/12 [==============================] - 15s 1s/step - loss: 0.0070 - accuracy: 1.0000 - val_loss: 1.1784 - val_accuracy: 0.4500\n",
      "Epoch 12/50\n",
      "12/12 [==============================] - 14s 1s/step - loss: 0.0058 - accuracy: 1.0000 - val_loss: 1.1926 - val_accuracy: 0.4500\n",
      "Epoch 13/50\n",
      "12/12 [==============================] - 14s 1s/step - loss: 0.0049 - accuracy: 1.0000 - val_loss: 1.2014 - val_accuracy: 0.5000\n",
      "Epoch 14/50\n",
      "12/12 [==============================] - 15s 1s/step - loss: 0.0042 - accuracy: 1.0000 - val_loss: 1.2194 - val_accuracy: 0.5000\n",
      "Epoch 15/50\n",
      "12/12 [==============================] - 14s 1s/step - loss: 0.0038 - accuracy: 1.0000 - val_loss: 1.2491 - val_accuracy: 0.5000\n",
      "Epoch 16/50\n",
      "12/12 [==============================] - 15s 1s/step - loss: 0.0034 - accuracy: 1.0000 - val_loss: 1.2508 - val_accuracy: 0.5500\n",
      "Epoch 17/50\n",
      "12/12 [==============================] - 14s 1s/step - loss: 0.0031 - accuracy: 1.0000 - val_loss: 1.2798 - val_accuracy: 0.4500\n",
      "Epoch 18/50\n",
      "12/12 [==============================] - 14s 1s/step - loss: 0.0028 - accuracy: 1.0000 - val_loss: 1.2729 - val_accuracy: 0.5500\n",
      "Epoch 19/50\n",
      "12/12 [==============================] - 15s 1s/step - loss: 0.0025 - accuracy: 1.0000 - val_loss: 1.2848 - val_accuracy: 0.5500\n",
      "Epoch 20/50\n",
      "12/12 [==============================] - 13s 1s/step - loss: 0.0023 - accuracy: 1.0000 - val_loss: 1.3035 - val_accuracy: 0.5000\n",
      "Epoch 21/50\n",
      "12/12 [==============================] - 15s 1s/step - loss: 0.0021 - accuracy: 1.0000 - val_loss: 1.3058 - val_accuracy: 0.5000\n",
      "Epoch 22/50\n",
      "12/12 [==============================] - 14s 1s/step - loss: 0.0020 - accuracy: 1.0000 - val_loss: 1.3084 - val_accuracy: 0.5500\n",
      "Epoch 23/50\n",
      "12/12 [==============================] - 14s 1s/step - loss: 0.0018 - accuracy: 1.0000 - val_loss: 1.3235 - val_accuracy: 0.5000\n",
      "Epoch 24/50\n",
      "12/12 [==============================] - 15s 1s/step - loss: 0.0017 - accuracy: 1.0000 - val_loss: 1.3216 - val_accuracy: 0.6000\n",
      "Epoch 25/50\n",
      "12/12 [==============================] - 15s 1s/step - loss: 0.0016 - accuracy: 1.0000 - val_loss: 1.3351 - val_accuracy: 0.5000\n",
      "Epoch 26/50\n",
      "12/12 [==============================] - 16s 1s/step - loss: 0.0015 - accuracy: 1.0000 - val_loss: 1.3397 - val_accuracy: 0.6000\n",
      "Epoch 27/50\n",
      "12/12 [==============================] - 14s 1s/step - loss: 0.0013 - accuracy: 1.0000 - val_loss: 1.3374 - val_accuracy: 0.5500\n",
      "Epoch 28/50\n",
      "12/12 [==============================] - 13s 1s/step - loss: 0.0013 - accuracy: 1.0000 - val_loss: 1.3462 - val_accuracy: 0.5500\n",
      "Epoch 29/50\n",
      "12/12 [==============================] - 14s 1s/step - loss: 0.0012 - accuracy: 1.0000 - val_loss: 1.3698 - val_accuracy: 0.5500\n",
      "Epoch 30/50\n",
      "12/12 [==============================] - 15s 1s/step - loss: 0.0011 - accuracy: 1.0000 - val_loss: 1.3769 - val_accuracy: 0.5500\n",
      "Epoch 31/50\n",
      "12/12 [==============================] - 14s 1s/step - loss: 0.0011 - accuracy: 1.0000 - val_loss: 1.3737 - val_accuracy: 0.5500\n",
      "Epoch 32/50\n",
      "12/12 [==============================] - 13s 1s/step - loss: 0.0010 - accuracy: 1.0000 - val_loss: 1.3842 - val_accuracy: 0.5500\n",
      "Epoch 33/50\n",
      "12/12 [==============================] - 14s 1s/step - loss: 9.5782e-04 - accuracy: 1.0000 - val_loss: 1.3921 - val_accuracy: 0.5000\n",
      "Epoch 34/50\n",
      "12/12 [==============================] - 14s 1s/step - loss: 9.1798e-04 - accuracy: 1.0000 - val_loss: 1.3925 - val_accuracy: 0.5500\n",
      "Epoch 35/50\n",
      "12/12 [==============================] - 14s 1s/step - loss: 8.7878e-04 - accuracy: 1.0000 - val_loss: 1.4054 - val_accuracy: 0.5500\n",
      "Epoch 36/50\n",
      "12/12 [==============================] - 14s 1s/step - loss: 8.2527e-04 - accuracy: 1.0000 - val_loss: 1.4074 - val_accuracy: 0.5500\n",
      "Epoch 37/50\n",
      "12/12 [==============================] - 14s 1s/step - loss: 7.9814e-04 - accuracy: 1.0000 - val_loss: 1.4131 - val_accuracy: 0.5000\n",
      "Epoch 38/50\n",
      "12/12 [==============================] - 14s 1s/step - loss: 7.5826e-04 - accuracy: 1.0000 - val_loss: 1.4070 - val_accuracy: 0.6000\n",
      "Epoch 39/50\n",
      "12/12 [==============================] - 15s 1s/step - loss: 7.2046e-04 - accuracy: 1.0000 - val_loss: 1.4179 - val_accuracy: 0.5500\n",
      "Epoch 40/50\n",
      "12/12 [==============================] - 15s 1s/step - loss: 7.1345e-04 - accuracy: 1.0000 - val_loss: 1.4358 - val_accuracy: 0.5000\n",
      "Epoch 41/50\n",
      "12/12 [==============================] - 14s 1s/step - loss: 6.5399e-04 - accuracy: 1.0000 - val_loss: 1.4399 - val_accuracy: 0.5500\n",
      "Epoch 42/50\n",
      "12/12 [==============================] - 14s 1s/step - loss: 6.2991e-04 - accuracy: 1.0000 - val_loss: 1.4487 - val_accuracy: 0.5500\n",
      "Epoch 43/50\n",
      "12/12 [==============================] - 14s 1s/step - loss: 6.1354e-04 - accuracy: 1.0000 - val_loss: 1.4407 - val_accuracy: 0.5500\n",
      "Epoch 44/50\n",
      " 8/12 [===================>..........] - ETA: 4s - loss: 5.7324e-04 - accuracy: 1.0000"
     ]
    },
    {
     "ename": "KeyboardInterrupt",
     "evalue": "",
     "output_type": "error",
     "traceback": [
      "\u001b[1;31m---------------------------------------------------------------------------\u001b[0m",
      "\u001b[1;31mKeyboardInterrupt\u001b[0m                         Traceback (most recent call last)",
      "\u001b[1;32m~\\AppData\\Local\\Temp/ipykernel_32008/1453204319.py\u001b[0m in \u001b[0;36m<module>\u001b[1;34m\u001b[0m\n\u001b[1;32m----> 1\u001b[1;33m trained = model.fit(trainX, trainY,epochs= 50\n\u001b[0m\u001b[0;32m      2\u001b[0m                     \u001b[1;33m,\u001b[0m\u001b[0mvalidation_data\u001b[0m\u001b[1;33m=\u001b[0m\u001b[1;33m(\u001b[0m\u001b[0mtestX\u001b[0m\u001b[1;33m,\u001b[0m \u001b[0mtestY\u001b[0m\u001b[1;33m)\u001b[0m\u001b[1;33m\u001b[0m\u001b[1;33m\u001b[0m\u001b[0m\n\u001b[0;32m      3\u001b[0m                    \u001b[1;33m,\u001b[0m\u001b[0mbatch_size\u001b[0m \u001b[1;33m=\u001b[0m \u001b[1;36m16\u001b[0m\u001b[1;33m\u001b[0m\u001b[1;33m\u001b[0m\u001b[0m\n\u001b[0;32m      4\u001b[0m                    \u001b[1;31m#,callbacks = callbacks_list\u001b[0m\u001b[1;33m\u001b[0m\u001b[1;33m\u001b[0m\u001b[0m\n\u001b[0;32m      5\u001b[0m                    )  \n",
      "\u001b[1;32m~\\AppData\\Roaming\\Python\\Python39\\site-packages\\keras\\utils\\traceback_utils.py\u001b[0m in \u001b[0;36merror_handler\u001b[1;34m(*args, **kwargs)\u001b[0m\n\u001b[0;32m     62\u001b[0m     \u001b[0mfiltered_tb\u001b[0m \u001b[1;33m=\u001b[0m \u001b[1;32mNone\u001b[0m\u001b[1;33m\u001b[0m\u001b[1;33m\u001b[0m\u001b[0m\n\u001b[0;32m     63\u001b[0m     \u001b[1;32mtry\u001b[0m\u001b[1;33m:\u001b[0m\u001b[1;33m\u001b[0m\u001b[1;33m\u001b[0m\u001b[0m\n\u001b[1;32m---> 64\u001b[1;33m       \u001b[1;32mreturn\u001b[0m \u001b[0mfn\u001b[0m\u001b[1;33m(\u001b[0m\u001b[1;33m*\u001b[0m\u001b[0margs\u001b[0m\u001b[1;33m,\u001b[0m \u001b[1;33m**\u001b[0m\u001b[0mkwargs\u001b[0m\u001b[1;33m)\u001b[0m\u001b[1;33m\u001b[0m\u001b[1;33m\u001b[0m\u001b[0m\n\u001b[0m\u001b[0;32m     65\u001b[0m     \u001b[1;32mexcept\u001b[0m \u001b[0mException\u001b[0m \u001b[1;32mas\u001b[0m \u001b[0me\u001b[0m\u001b[1;33m:\u001b[0m  \u001b[1;31m# pylint: disable=broad-except\u001b[0m\u001b[1;33m\u001b[0m\u001b[1;33m\u001b[0m\u001b[0m\n\u001b[0;32m     66\u001b[0m       \u001b[0mfiltered_tb\u001b[0m \u001b[1;33m=\u001b[0m \u001b[0m_process_traceback_frames\u001b[0m\u001b[1;33m(\u001b[0m\u001b[0me\u001b[0m\u001b[1;33m.\u001b[0m\u001b[0m__traceback__\u001b[0m\u001b[1;33m)\u001b[0m\u001b[1;33m\u001b[0m\u001b[1;33m\u001b[0m\u001b[0m\n",
      "\u001b[1;32m~\\AppData\\Roaming\\Python\\Python39\\site-packages\\keras\\engine\\training.py\u001b[0m in \u001b[0;36mfit\u001b[1;34m(self, x, y, batch_size, epochs, verbose, callbacks, validation_split, validation_data, shuffle, class_weight, sample_weight, initial_epoch, steps_per_epoch, validation_steps, validation_batch_size, validation_freq, max_queue_size, workers, use_multiprocessing)\u001b[0m\n\u001b[0;32m   1382\u001b[0m                 _r=1):\n\u001b[0;32m   1383\u001b[0m               \u001b[0mcallbacks\u001b[0m\u001b[1;33m.\u001b[0m\u001b[0mon_train_batch_begin\u001b[0m\u001b[1;33m(\u001b[0m\u001b[0mstep\u001b[0m\u001b[1;33m)\u001b[0m\u001b[1;33m\u001b[0m\u001b[1;33m\u001b[0m\u001b[0m\n\u001b[1;32m-> 1384\u001b[1;33m               \u001b[0mtmp_logs\u001b[0m \u001b[1;33m=\u001b[0m \u001b[0mself\u001b[0m\u001b[1;33m.\u001b[0m\u001b[0mtrain_function\u001b[0m\u001b[1;33m(\u001b[0m\u001b[0miterator\u001b[0m\u001b[1;33m)\u001b[0m\u001b[1;33m\u001b[0m\u001b[1;33m\u001b[0m\u001b[0m\n\u001b[0m\u001b[0;32m   1385\u001b[0m               \u001b[1;32mif\u001b[0m \u001b[0mdata_handler\u001b[0m\u001b[1;33m.\u001b[0m\u001b[0mshould_sync\u001b[0m\u001b[1;33m:\u001b[0m\u001b[1;33m\u001b[0m\u001b[1;33m\u001b[0m\u001b[0m\n\u001b[0;32m   1386\u001b[0m                 \u001b[0mcontext\u001b[0m\u001b[1;33m.\u001b[0m\u001b[0masync_wait\u001b[0m\u001b[1;33m(\u001b[0m\u001b[1;33m)\u001b[0m\u001b[1;33m\u001b[0m\u001b[1;33m\u001b[0m\u001b[0m\n",
      "\u001b[1;32m~\\AppData\\Roaming\\Python\\Python39\\site-packages\\tensorflow\\python\\util\\traceback_utils.py\u001b[0m in \u001b[0;36merror_handler\u001b[1;34m(*args, **kwargs)\u001b[0m\n\u001b[0;32m    148\u001b[0m     \u001b[0mfiltered_tb\u001b[0m \u001b[1;33m=\u001b[0m \u001b[1;32mNone\u001b[0m\u001b[1;33m\u001b[0m\u001b[1;33m\u001b[0m\u001b[0m\n\u001b[0;32m    149\u001b[0m     \u001b[1;32mtry\u001b[0m\u001b[1;33m:\u001b[0m\u001b[1;33m\u001b[0m\u001b[1;33m\u001b[0m\u001b[0m\n\u001b[1;32m--> 150\u001b[1;33m       \u001b[1;32mreturn\u001b[0m \u001b[0mfn\u001b[0m\u001b[1;33m(\u001b[0m\u001b[1;33m*\u001b[0m\u001b[0margs\u001b[0m\u001b[1;33m,\u001b[0m \u001b[1;33m**\u001b[0m\u001b[0mkwargs\u001b[0m\u001b[1;33m)\u001b[0m\u001b[1;33m\u001b[0m\u001b[1;33m\u001b[0m\u001b[0m\n\u001b[0m\u001b[0;32m    151\u001b[0m     \u001b[1;32mexcept\u001b[0m \u001b[0mException\u001b[0m \u001b[1;32mas\u001b[0m \u001b[0me\u001b[0m\u001b[1;33m:\u001b[0m\u001b[1;33m\u001b[0m\u001b[1;33m\u001b[0m\u001b[0m\n\u001b[0;32m    152\u001b[0m       \u001b[0mfiltered_tb\u001b[0m \u001b[1;33m=\u001b[0m \u001b[0m_process_traceback_frames\u001b[0m\u001b[1;33m(\u001b[0m\u001b[0me\u001b[0m\u001b[1;33m.\u001b[0m\u001b[0m__traceback__\u001b[0m\u001b[1;33m)\u001b[0m\u001b[1;33m\u001b[0m\u001b[1;33m\u001b[0m\u001b[0m\n",
      "\u001b[1;32m~\\AppData\\Roaming\\Python\\Python39\\site-packages\\tensorflow\\python\\eager\\def_function.py\u001b[0m in \u001b[0;36m__call__\u001b[1;34m(self, *args, **kwds)\u001b[0m\n\u001b[0;32m    913\u001b[0m \u001b[1;33m\u001b[0m\u001b[0m\n\u001b[0;32m    914\u001b[0m       \u001b[1;32mwith\u001b[0m \u001b[0mOptionalXlaContext\u001b[0m\u001b[1;33m(\u001b[0m\u001b[0mself\u001b[0m\u001b[1;33m.\u001b[0m\u001b[0m_jit_compile\u001b[0m\u001b[1;33m)\u001b[0m\u001b[1;33m:\u001b[0m\u001b[1;33m\u001b[0m\u001b[1;33m\u001b[0m\u001b[0m\n\u001b[1;32m--> 915\u001b[1;33m         \u001b[0mresult\u001b[0m \u001b[1;33m=\u001b[0m \u001b[0mself\u001b[0m\u001b[1;33m.\u001b[0m\u001b[0m_call\u001b[0m\u001b[1;33m(\u001b[0m\u001b[1;33m*\u001b[0m\u001b[0margs\u001b[0m\u001b[1;33m,\u001b[0m \u001b[1;33m**\u001b[0m\u001b[0mkwds\u001b[0m\u001b[1;33m)\u001b[0m\u001b[1;33m\u001b[0m\u001b[1;33m\u001b[0m\u001b[0m\n\u001b[0m\u001b[0;32m    916\u001b[0m \u001b[1;33m\u001b[0m\u001b[0m\n\u001b[0;32m    917\u001b[0m       \u001b[0mnew_tracing_count\u001b[0m \u001b[1;33m=\u001b[0m \u001b[0mself\u001b[0m\u001b[1;33m.\u001b[0m\u001b[0mexperimental_get_tracing_count\u001b[0m\u001b[1;33m(\u001b[0m\u001b[1;33m)\u001b[0m\u001b[1;33m\u001b[0m\u001b[1;33m\u001b[0m\u001b[0m\n",
      "\u001b[1;32m~\\AppData\\Roaming\\Python\\Python39\\site-packages\\tensorflow\\python\\eager\\def_function.py\u001b[0m in \u001b[0;36m_call\u001b[1;34m(self, *args, **kwds)\u001b[0m\n\u001b[0;32m    945\u001b[0m       \u001b[1;31m# In this case we have created variables on the first call, so we run the\u001b[0m\u001b[1;33m\u001b[0m\u001b[1;33m\u001b[0m\u001b[0m\n\u001b[0;32m    946\u001b[0m       \u001b[1;31m# defunned version which is guaranteed to never create variables.\u001b[0m\u001b[1;33m\u001b[0m\u001b[1;33m\u001b[0m\u001b[0m\n\u001b[1;32m--> 947\u001b[1;33m       \u001b[1;32mreturn\u001b[0m \u001b[0mself\u001b[0m\u001b[1;33m.\u001b[0m\u001b[0m_stateless_fn\u001b[0m\u001b[1;33m(\u001b[0m\u001b[1;33m*\u001b[0m\u001b[0margs\u001b[0m\u001b[1;33m,\u001b[0m \u001b[1;33m**\u001b[0m\u001b[0mkwds\u001b[0m\u001b[1;33m)\u001b[0m  \u001b[1;31m# pylint: disable=not-callable\u001b[0m\u001b[1;33m\u001b[0m\u001b[1;33m\u001b[0m\u001b[0m\n\u001b[0m\u001b[0;32m    948\u001b[0m     \u001b[1;32melif\u001b[0m \u001b[0mself\u001b[0m\u001b[1;33m.\u001b[0m\u001b[0m_stateful_fn\u001b[0m \u001b[1;32mis\u001b[0m \u001b[1;32mnot\u001b[0m \u001b[1;32mNone\u001b[0m\u001b[1;33m:\u001b[0m\u001b[1;33m\u001b[0m\u001b[1;33m\u001b[0m\u001b[0m\n\u001b[0;32m    949\u001b[0m       \u001b[1;31m# Release the lock early so that multiple threads can perform the call\u001b[0m\u001b[1;33m\u001b[0m\u001b[1;33m\u001b[0m\u001b[0m\n",
      "\u001b[1;32m~\\AppData\\Roaming\\Python\\Python39\\site-packages\\tensorflow\\python\\eager\\function.py\u001b[0m in \u001b[0;36m__call__\u001b[1;34m(self, *args, **kwargs)\u001b[0m\n\u001b[0;32m   2954\u001b[0m       (graph_function,\n\u001b[0;32m   2955\u001b[0m        filtered_flat_args) = self._maybe_define_function(args, kwargs)\n\u001b[1;32m-> 2956\u001b[1;33m     return graph_function._call_flat(\n\u001b[0m\u001b[0;32m   2957\u001b[0m         filtered_flat_args, captured_inputs=graph_function.captured_inputs)  # pylint: disable=protected-access\n\u001b[0;32m   2958\u001b[0m \u001b[1;33m\u001b[0m\u001b[0m\n",
      "\u001b[1;32m~\\AppData\\Roaming\\Python\\Python39\\site-packages\\tensorflow\\python\\eager\\function.py\u001b[0m in \u001b[0;36m_call_flat\u001b[1;34m(self, args, captured_inputs, cancellation_manager)\u001b[0m\n\u001b[0;32m   1851\u001b[0m         and executing_eagerly):\n\u001b[0;32m   1852\u001b[0m       \u001b[1;31m# No tape is watching; skip to running the function.\u001b[0m\u001b[1;33m\u001b[0m\u001b[1;33m\u001b[0m\u001b[0m\n\u001b[1;32m-> 1853\u001b[1;33m       return self._build_call_outputs(self._inference_function.call(\n\u001b[0m\u001b[0;32m   1854\u001b[0m           ctx, args, cancellation_manager=cancellation_manager))\n\u001b[0;32m   1855\u001b[0m     forward_backward = self._select_forward_and_backward_functions(\n",
      "\u001b[1;32m~\\AppData\\Roaming\\Python\\Python39\\site-packages\\tensorflow\\python\\eager\\function.py\u001b[0m in \u001b[0;36mcall\u001b[1;34m(self, ctx, args, cancellation_manager)\u001b[0m\n\u001b[0;32m    497\u001b[0m       \u001b[1;32mwith\u001b[0m \u001b[0m_InterpolateFunctionError\u001b[0m\u001b[1;33m(\u001b[0m\u001b[0mself\u001b[0m\u001b[1;33m)\u001b[0m\u001b[1;33m:\u001b[0m\u001b[1;33m\u001b[0m\u001b[1;33m\u001b[0m\u001b[0m\n\u001b[0;32m    498\u001b[0m         \u001b[1;32mif\u001b[0m \u001b[0mcancellation_manager\u001b[0m \u001b[1;32mis\u001b[0m \u001b[1;32mNone\u001b[0m\u001b[1;33m:\u001b[0m\u001b[1;33m\u001b[0m\u001b[1;33m\u001b[0m\u001b[0m\n\u001b[1;32m--> 499\u001b[1;33m           outputs = execute.execute(\n\u001b[0m\u001b[0;32m    500\u001b[0m               \u001b[0mstr\u001b[0m\u001b[1;33m(\u001b[0m\u001b[0mself\u001b[0m\u001b[1;33m.\u001b[0m\u001b[0msignature\u001b[0m\u001b[1;33m.\u001b[0m\u001b[0mname\u001b[0m\u001b[1;33m)\u001b[0m\u001b[1;33m,\u001b[0m\u001b[1;33m\u001b[0m\u001b[1;33m\u001b[0m\u001b[0m\n\u001b[0;32m    501\u001b[0m               \u001b[0mnum_outputs\u001b[0m\u001b[1;33m=\u001b[0m\u001b[0mself\u001b[0m\u001b[1;33m.\u001b[0m\u001b[0m_num_outputs\u001b[0m\u001b[1;33m,\u001b[0m\u001b[1;33m\u001b[0m\u001b[1;33m\u001b[0m\u001b[0m\n",
      "\u001b[1;32m~\\AppData\\Roaming\\Python\\Python39\\site-packages\\tensorflow\\python\\eager\\execute.py\u001b[0m in \u001b[0;36mquick_execute\u001b[1;34m(op_name, num_outputs, inputs, attrs, ctx, name)\u001b[0m\n\u001b[0;32m     52\u001b[0m   \u001b[1;32mtry\u001b[0m\u001b[1;33m:\u001b[0m\u001b[1;33m\u001b[0m\u001b[1;33m\u001b[0m\u001b[0m\n\u001b[0;32m     53\u001b[0m     \u001b[0mctx\u001b[0m\u001b[1;33m.\u001b[0m\u001b[0mensure_initialized\u001b[0m\u001b[1;33m(\u001b[0m\u001b[1;33m)\u001b[0m\u001b[1;33m\u001b[0m\u001b[1;33m\u001b[0m\u001b[0m\n\u001b[1;32m---> 54\u001b[1;33m     tensors = pywrap_tfe.TFE_Py_Execute(ctx._handle, device_name, op_name,\n\u001b[0m\u001b[0;32m     55\u001b[0m                                         inputs, attrs, num_outputs)\n\u001b[0;32m     56\u001b[0m   \u001b[1;32mexcept\u001b[0m \u001b[0mcore\u001b[0m\u001b[1;33m.\u001b[0m\u001b[0m_NotOkStatusException\u001b[0m \u001b[1;32mas\u001b[0m \u001b[0me\u001b[0m\u001b[1;33m:\u001b[0m\u001b[1;33m\u001b[0m\u001b[1;33m\u001b[0m\u001b[0m\n",
      "\u001b[1;31mKeyboardInterrupt\u001b[0m: "
     ]
    }
   ],
   "source": [
    "trained = model.fit(trainX, trainY,epochs= 50\n",
    "                    ,validation_data=(testX, testY)\n",
    "                   ,batch_size = 16\n",
    "                   #,callbacks = callbacks_list\n",
    "                   )"
   ]
  },
  {
   "cell_type": "markdown",
   "id": "7affa433",
   "metadata": {},
   "source": [
    "# 6- Model Evaluation"
   ]
  },
  {
   "cell_type": "code",
   "execution_count": null,
   "id": "fa87aefd",
   "metadata": {},
   "outputs": [],
   "source": [
    "fig, ax = plt.subplots(figsize=(3, 4))\n",
    "ax.matshow(conf_matrix, cmap=plt.cm.Blues, alpha=0.3)\n",
    "for i in range(conf_matrix.shape[0]):\n",
    "    for j in range(conf_matrix.shape[1]):\n",
    "        ax.text(x=j, y=i,s=conf_matrix[i, j], va='center', ha='center', size='xx-large')\n",
    " \n",
    "plt.xlabel('Predictions', fontsize=18)\n",
    "plt.ylabel('Actuals', fontsize=18)\n",
    "plt.title('Confusion Matrix', fontsize=18)\n",
    "plt.show()"
   ]
  },
  {
   "cell_type": "code",
   "execution_count": 72,
   "id": "9ecc8a30",
   "metadata": {},
   "outputs": [],
   "source": [
    "predictions = model.predict(testX)"
   ]
  },
  {
   "cell_type": "code",
   "execution_count": 73,
   "id": "ded51ba8",
   "metadata": {},
   "outputs": [],
   "source": [
    "cnn_pred = np.argmax(predictions,axis = 1)\n",
    "testY_pred = np.argmax(testY,axis = 1)"
   ]
  },
  {
   "cell_type": "code",
   "execution_count": null,
   "id": "9369fa9a",
   "metadata": {},
   "outputs": [],
   "source": [
    "acc = accuracy_score(cnn_pred,testY_pred)\n",
    "print(\"accuracy =\",acc*100)"
   ]
  },
  {
   "cell_type": "markdown",
   "id": "44c7129a",
   "metadata": {},
   "source": [
    "# 7- Reports"
   ]
  },
  {
   "cell_type": "code",
   "execution_count": null,
   "id": "7007192b",
   "metadata": {},
   "outputs": [],
   "source": [
    "#Classifcation Report for\n",
    "#Precision\n",
    "#Recall\n",
    "#F1-score\n",
    "#Support\n",
    "print(classification_report(testY_pred, cnn_pred,\n",
    "target_names=lb.classes_))"
   ]
  },
  {
   "cell_type": "code",
   "execution_count": 78,
   "id": "79472db0",
   "metadata": {},
   "outputs": [],
   "source": [
    "conf_matrix = confusion_matrix(y_true=testY_pred, y_pred=cnn_pred)"
   ]
  },
  {
   "cell_type": "code",
   "execution_count": null,
   "id": "c421ae4f",
   "metadata": {},
   "outputs": [],
   "source": [
    "#confusion matrix\n",
    "fig, ax = plt.subplots(figsize=(3, 4))\n",
    "ax.matshow(conf_matrix, cmap=plt.cm.Blues, alpha=0.3)\n",
    "for i in range(conf_matrix.shape[0]):\n",
    "    for j in range(conf_matrix.shape[1]):\n",
    "        ax.text(x=j, y=i,s=conf_matrix[i, j], va='center', ha='center', size='xx-large')\n",
    " \n",
    "plt.xlabel('Predictions', fontsize=18)\n",
    "plt.ylabel('Actuals', fontsize=18)\n",
    "plt.title('Confusion Matrix', fontsize=18)\n",
    "plt.show()"
   ]
  },
  {
   "cell_type": "markdown",
   "id": "fda0a0cf",
   "metadata": {},
   "source": [
    "# 8- Saving Our Model"
   ]
  },
  {
   "cell_type": "code",
   "execution_count": 39,
   "id": "659418e4",
   "metadata": {},
   "outputs": [],
   "source": [
    "model.save(\"VGG16_50EPOCH_80%.h5\")"
   ]
  },
  {
   "cell_type": "markdown",
   "id": "043df41b",
   "metadata": {},
   "source": [
    "# 9- Saving Our Model As TFLite"
   ]
  },
  {
   "cell_type": "code",
   "execution_count": null,
   "id": "c9beea9e",
   "metadata": {},
   "outputs": [],
   "source": [
    "tf_lite_converter = tf.lite.TFLiteConverter.from_keras_model(model)\n",
    "tflite_model = tf_lite_converter.convert()"
   ]
  },
  {
   "cell_type": "code",
   "execution_count": null,
   "id": "c08699ee",
   "metadata": {},
   "outputs": [],
   "source": [
    "open(\"TFLite_Model.tflite\", \"wb\").write(tflite_model)"
   ]
  },
  {
   "cell_type": "markdown",
   "id": "6675f26a",
   "metadata": {},
   "source": [
    "# 10- Transfer Learning Models"
   ]
  },
  {
   "cell_type": "code",
   "execution_count": 29,
   "id": "60aa2435",
   "metadata": {},
   "outputs": [],
   "source": [
    "#baseModel = MobileNetV2(weights=\"imagenet\", include_top=False,\n",
    "baseModel = VGG16(weights=\"imagenet\", include_top=False,\n",
    "#baseModel = VGG19(weights=\"imagenet\", include_top=False,\n",
    "#baseModel = EfficientNetB7(weights=\"imagenet\", include_top=False,\n",
    "    input_tensor=Input(shape=(200, 200, 3)))"
   ]
  },
  {
   "cell_type": "code",
   "execution_count": 59,
   "id": "73b4cb92",
   "metadata": {},
   "outputs": [],
   "source": [
    "# head of the model that will be placed on top of the the base model\n",
    "headModel = baseModel.output\n",
    "headModel = MaxPooling2D(pool_size=(4, 4))(headModel)\n",
    "headModel = Flatten(name=\"flatten\")(headModel)\n",
    "headModel = Dense(2, activation=\"softmax\")(headModel)"
   ]
  },
  {
   "cell_type": "code",
   "execution_count": 60,
   "id": "4c01cf49",
   "metadata": {},
   "outputs": [],
   "source": [
    "# placing the head at the top of the base model\n",
    "model = Model(inputs=baseModel.input, outputs=headModel)"
   ]
  },
  {
   "cell_type": "code",
   "execution_count": 61,
   "id": "54810283",
   "metadata": {},
   "outputs": [],
   "source": [
    "# freeze all layers in the base model\n",
    "for layer in baseModel.layers:\n",
    "    layer.trainable = False"
   ]
  },
  {
   "cell_type": "code",
   "execution_count": 62,
   "id": "ee2a6f1e",
   "metadata": {},
   "outputs": [],
   "source": [
    "model.compile(loss=\"binary_crossentropy\", optimizer=\"adam\",metrics=[\"accuracy\"])"
   ]
  },
  {
   "cell_type": "code",
   "execution_count": 63,
   "id": "75dd7aa2",
   "metadata": {},
   "outputs": [
    {
     "name": "stdout",
     "output_type": "stream",
     "text": [
      "Epoch 1/30\n",
      "3/3 [==============================] - 22s 7s/step - loss: 0.7733 - accuracy: 0.4556 - val_loss: 0.7096 - val_accuracy: 0.6500\n",
      "Epoch 2/30\n",
      "3/3 [==============================] - 22s 8s/step - loss: 0.7512 - accuracy: 0.5000 - val_loss: 0.7050 - val_accuracy: 0.6500\n",
      "Epoch 3/30\n",
      "3/3 [==============================] - 23s 8s/step - loss: 0.7313 - accuracy: 0.5000 - val_loss: 0.6978 - val_accuracy: 0.6000\n",
      "Epoch 4/30\n",
      "3/3 [==============================] - 23s 8s/step - loss: 0.7094 - accuracy: 0.5111 - val_loss: 0.6910 - val_accuracy: 0.6500\n",
      "Epoch 5/30\n",
      "3/3 [==============================] - 23s 8s/step - loss: 0.6947 - accuracy: 0.5389 - val_loss: 0.6856 - val_accuracy: 0.7000\n",
      "Epoch 6/30\n",
      "3/3 [==============================] - 23s 8s/step - loss: 0.6811 - accuracy: 0.6167 - val_loss: 0.6821 - val_accuracy: 0.6000\n",
      "Epoch 7/30\n",
      "3/3 [==============================] - 23s 8s/step - loss: 0.6651 - accuracy: 0.6667 - val_loss: 0.6789 - val_accuracy: 0.6500\n",
      "Epoch 8/30\n",
      "3/3 [==============================] - 24s 8s/step - loss: 0.6533 - accuracy: 0.7000 - val_loss: 0.6765 - val_accuracy: 0.6500\n",
      "Epoch 9/30\n",
      "3/3 [==============================] - 23s 8s/step - loss: 0.6419 - accuracy: 0.7056 - val_loss: 0.6740 - val_accuracy: 0.6500\n",
      "Epoch 10/30\n",
      "3/3 [==============================] - 24s 8s/step - loss: 0.6302 - accuracy: 0.7278 - val_loss: 0.6718 - val_accuracy: 0.5500\n",
      "Epoch 11/30\n",
      "3/3 [==============================] - 23s 8s/step - loss: 0.6208 - accuracy: 0.7278 - val_loss: 0.6696 - val_accuracy: 0.5500\n",
      "Epoch 12/30\n",
      "3/3 [==============================] - 23s 8s/step - loss: 0.6131 - accuracy: 0.7333 - val_loss: 0.6680 - val_accuracy: 0.6000\n",
      "Epoch 13/30\n",
      "3/3 [==============================] - 23s 8s/step - loss: 0.6046 - accuracy: 0.7333 - val_loss: 0.6664 - val_accuracy: 0.6000\n",
      "Epoch 14/30\n",
      "3/3 [==============================] - 23s 8s/step - loss: 0.5982 - accuracy: 0.7389 - val_loss: 0.6649 - val_accuracy: 0.6500\n",
      "Epoch 15/30\n",
      "3/3 [==============================] - 23s 8s/step - loss: 0.5898 - accuracy: 0.7611 - val_loss: 0.6640 - val_accuracy: 0.6500\n",
      "Epoch 16/30\n",
      "3/3 [==============================] - 23s 8s/step - loss: 0.5834 - accuracy: 0.7667 - val_loss: 0.6632 - val_accuracy: 0.6500\n",
      "Epoch 17/30\n",
      "3/3 [==============================] - 23s 8s/step - loss: 0.5775 - accuracy: 0.7778 - val_loss: 0.6622 - val_accuracy: 0.6500\n",
      "Epoch 18/30\n",
      "3/3 [==============================] - 23s 8s/step - loss: 0.5711 - accuracy: 0.7944 - val_loss: 0.6611 - val_accuracy: 0.6500\n",
      "Epoch 19/30\n",
      "3/3 [==============================] - 23s 8s/step - loss: 0.5657 - accuracy: 0.7944 - val_loss: 0.6602 - val_accuracy: 0.6500\n",
      "Epoch 20/30\n",
      "3/3 [==============================] - 23s 8s/step - loss: 0.5620 - accuracy: 0.7611 - val_loss: 0.6595 - val_accuracy: 0.6500\n",
      "Epoch 21/30\n",
      "3/3 [==============================] - 23s 8s/step - loss: 0.5553 - accuracy: 0.7778 - val_loss: 0.6588 - val_accuracy: 0.6500\n",
      "Epoch 22/30\n",
      "3/3 [==============================] - 24s 8s/step - loss: 0.5503 - accuracy: 0.7889 - val_loss: 0.6583 - val_accuracy: 0.6500\n",
      "Epoch 23/30\n",
      "3/3 [==============================] - 23s 8s/step - loss: 0.5450 - accuracy: 0.7889 - val_loss: 0.6576 - val_accuracy: 0.6500\n",
      "Epoch 24/30\n",
      "3/3 [==============================] - 23s 8s/step - loss: 0.5410 - accuracy: 0.7889 - val_loss: 0.6574 - val_accuracy: 0.6500\n",
      "Epoch 25/30\n",
      "3/3 [==============================] - 23s 8s/step - loss: 0.5366 - accuracy: 0.7889 - val_loss: 0.6565 - val_accuracy: 0.6500\n",
      "Epoch 26/30\n",
      "3/3 [==============================] - 23s 8s/step - loss: 0.5314 - accuracy: 0.7944 - val_loss: 0.6558 - val_accuracy: 0.6500\n",
      "Epoch 27/30\n",
      "3/3 [==============================] - 23s 8s/step - loss: 0.5271 - accuracy: 0.7889 - val_loss: 0.6554 - val_accuracy: 0.6000\n",
      "Epoch 28/30\n",
      "3/3 [==============================] - 24s 8s/step - loss: 0.5233 - accuracy: 0.7889 - val_loss: 0.6551 - val_accuracy: 0.6500\n",
      "Epoch 29/30\n",
      "3/3 [==============================] - 23s 8s/step - loss: 0.5186 - accuracy: 0.7944 - val_loss: 0.6545 - val_accuracy: 0.6500\n",
      "Epoch 30/30\n",
      "3/3 [==============================] - 24s 8s/step - loss: 0.5145 - accuracy: 0.7944 - val_loss: 0.6539 - val_accuracy: 0.6500\n"
     ]
    }
   ],
   "source": [
    "#Training the model\n",
    "transfer_learning = model.fit(\n",
    "    trainX, trainY, \n",
    "    batch_size=64,\n",
    "    validation_data=(testX, testY),\n",
    "    epochs=30)"
   ]
  },
  {
   "cell_type": "markdown",
   "id": "158e614e",
   "metadata": {},
   "source": [
    "# 11- SVM Transfer Learning"
   ]
  },
  {
   "cell_type": "code",
   "execution_count": 39,
   "id": "17b43e21",
   "metadata": {},
   "outputs": [
    {
     "name": "stdout",
     "output_type": "stream",
     "text": [
      "trainX before reshape: (180, 200, 200, 3)\n",
      "testX before reshape: (20, 200, 200, 3)\n",
      "trainX after reshape: (180, 120000)\n",
      "testX after reshape: (20, 120000)\n"
     ]
    }
   ],
   "source": [
    "#reshaping our data to better suit SVM\n",
    "x,y,z,w = trainX.shape\n",
    "trainXX = trainX.reshape(x,y*z*w)\n",
    "x1,y1,z1,w1 = testX.shape\n",
    "testXX = testX.reshape(x1,y1*z1*w1)\n",
    "print(\"trainX before reshape:\",trainX.shape)\n",
    "print(\"testX before reshape:\",testX.shape)\n",
    "print(\"trainX after reshape:\",trainXX.shape)\n",
    "print(\"testX after reshape:\",testXX.shape)"
   ]
  },
  {
   "cell_type": "code",
   "execution_count": 16,
   "id": "c1b815f7",
   "metadata": {},
   "outputs": [
    {
     "data": {
      "text/plain": [
       "SVC(C=1, kernel='linear', probability=True)"
      ]
     },
     "execution_count": 16,
     "metadata": {},
     "output_type": "execute_result"
    }
   ],
   "source": [
    "#Training using SVM classifier\n",
    "clf = svm.SVC(kernel='linear', C = 1, probability=True)\n",
    "clf.fit(trainXX,trainY)"
   ]
  },
  {
   "cell_type": "code",
   "execution_count": 17,
   "id": "b2bac04c",
   "metadata": {},
   "outputs": [],
   "source": [
    "#Model Prediction\n",
    "predIdxs = clf.predict(testXX)"
   ]
  },
  {
   "cell_type": "code",
   "execution_count": 18,
   "id": "79f228c7",
   "metadata": {},
   "outputs": [
    {
     "name": "stdout",
     "output_type": "stream",
     "text": [
      "accuracy: % 42.5\n"
     ]
    }
   ],
   "source": [
    "acc = accuracy_score(predIdxs,testY)\n",
    "print(\"accuracy: %\",acc*100)"
   ]
  }
 ],
 "metadata": {
  "kernelspec": {
   "display_name": "Python 3 (ipykernel)",
   "language": "python",
   "name": "python3"
  },
  "language_info": {
   "codemirror_mode": {
    "name": "ipython",
    "version": 3
   },
   "file_extension": ".py",
   "mimetype": "text/x-python",
   "name": "python",
   "nbconvert_exporter": "python",
   "pygments_lexer": "ipython3",
   "version": "3.9.7"
  }
 },
 "nbformat": 4,
 "nbformat_minor": 5
}
